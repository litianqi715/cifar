{
 "cells": [
  {
   "cell_type": "code",
   "execution_count": 41,
   "metadata": {},
   "outputs": [],
   "source": [
    "import sys\n",
    "import cv2\n",
    "import torch\n",
    "import numpy as np\n",
    "import matplotlib\n",
    "%matplotlib inline\n",
    "import PIL.Image as image\n",
    "import matplotlib.pyplot as plt\n",
    "\n",
    "import torch\n",
    "import torchvision\n"
   ]
  },
  {
   "cell_type": "code",
   "execution_count": 16,
   "metadata": {},
   "outputs": [],
   "source": [
    "if sys.version < str(3.0):\n",
    "    def unpickle(file):\n",
    "        with open(file, 'rb') as fo:\n",
    "            import cPickle\n",
    "            dict = cPickle.load(fo)\n",
    "        return dict\n",
    "else:\n",
    "    def unpickle(file):\n",
    "        with open(file, 'rb') as fo:\n",
    "            import pickle\n",
    "            dict = pickle.load(fo, encoding='bytes')\n",
    "        return dict"
   ]
  },
  {
   "cell_type": "code",
   "execution_count": 71,
   "metadata": {},
   "outputs": [
    {
     "name": "stdout",
     "output_type": "stream",
     "text": [
      "((10000, 3072), 1)\n",
      "((10000, 3072), 2)\n",
      "((10000, 3072), 3)\n"
     ]
    },
    {
     "data": {
      "text/plain": [
       "(30000, 32, 32, 3)"
      ]
     },
     "execution_count": 71,
     "metadata": {},
     "output_type": "execute_result"
    }
   ],
   "source": [
    "files = [\"/home/ltq/cifar/cifar-10-batches-py/data_batch_1\", \n",
    "         \"/home/ltq/cifar/cifar-10-batches-py/data_batch_2\",\n",
    "#          \"/home/ltq/cifar/cifar-10-batches-py/data_batch_3\",\n",
    "#         \"/home/ltq/cifar/cifar-10-batches-py/data_batch_4\",\n",
    "        \"/home/ltq/cifar/cifar-10-batches-py/data_batch_5\"]\n",
    "\n",
    "train_data = []\n",
    "train_labels = []\n",
    "filenames = []\n",
    "for batch_file in files:\n",
    "    batch_data = unpickle(batch_file)\n",
    "    train_data.append(batch_data['data'])\n",
    "    train_labels += batch_data['labels']\n",
    "    filenames += batch_data['filenames']\n",
    "    print(batch_data['data'].shape, len(train_data))\n",
    "\n",
    "train_data = np.concatenate(train_data)\n",
    "train_data = train_data.reshape(30000, 3, 32,32)\n",
    "train_data = train_data.transpose((0,2,3,1))\n",
    "\n",
    "train_data.shape"
   ]
  },
  {
   "cell_type": "code",
   "execution_count": 70,
   "metadata": {},
   "outputs": [],
   "source": [
    "# img = imgs[5003]\n",
    "# r = image.fromarray(img[0]).convert('L')\n",
    "# g = image.fromarray(img[1]).convert('L')\n",
    "# b = image.fromarray(img[2]).convert('L')\n",
    "# img_m = image.merge('RGB',(r,g,b))\n",
    "# img_m"
   ]
  },
  {
   "cell_type": "code",
   "execution_count": 43,
   "metadata": {},
   "outputs": [
    {
     "name": "stdout",
     "output_type": "stream",
     "text": [
      "0.3.1\n",
      "0.2.1\n"
     ]
    }
   ],
   "source": [
    "print(torch.__version__)\n",
    "print(torchvision.__version__)\n",
    "import torchvision.models as models\n",
    "import torch.optim as optim\n",
    "torch.cuda.set_device(1)\n",
    "\n",
    "# model-resnet18\n",
    "resnet18 = models.resnet18(pretrained=False).cuda()\n",
    "resnet18.fc = nn.Linear(10)\n",
    "\n",
    "# data_loader\n",
    "train_loader = torch.utils.data.DataLoader(train_data, batch_size=batch_size, shuffle=True, num_workers=2)\n",
    "\n",
    "# training hyperparameters\n",
    "total_epoch = 15\n",
    "pre_epoch = 0\n",
    "batch_size = 32\n",
    "learning_rate = 0.01\n",
    "\n",
    "# loss and optimizer\n",
    "loss = nn.CrossEntropyLoss()\n",
    "optimizer = optim.SGD(resnet18.parameters(), lr=learning_rate, momentum=0.9, weight_decy=5e-4)\n",
    "\n",
    "# training\n",
    "best_acc = 85\n",
    "print(\"Starting training\")\n",
    "for epoch in range(pre_epoch, total_epoch):\n",
    "    print(\"epoch: {}\".format(epoch+1))\n",
    "    resnet18.train()\n",
    "    sum_loss = 0.0\n",
    "    correct = 0.0\n",
    "    total = 0.0\n",
    "    for i, data in enumerate(train_loader, 0):\n",
    "        length = len(train_loader)\n",
    "        inputs, labels = data\n",
    "        inputs, labels = inputs.cuda(), labels.cuda()\n",
    "        optimizer.zero_grad()\n",
    "        \n",
    "        # forward + backward\n",
    "        outputs = resnet18(inputs)\n",
    "        loss = criterion(outputs, labels)\n",
    "        loss.backward()\n",
    "        optimizer.step()\n",
    "\n",
    "\n",
    "\n",
    "# classes\n",
    "classes = ('plane', 'car', 'bird', 'cat', 'deer', 'dog', 'frog', 'horse', 'ship', 'truck')"
   ]
  },
  {
   "cell_type": "code",
   "execution_count": 61,
   "metadata": {},
   "outputs": [
    {
     "name": "stdout",
     "output_type": "stream",
     "text": [
      "(20, 100)\n"
     ]
    },
    {
     "data": {
      "text/plain": [
       "20"
      ]
     },
     "execution_count": 61,
     "metadata": {},
     "output_type": "execute_result"
    }
   ],
   "source": [
    "aa = []\n",
    "bb=np.zeros(2000).reshape(20,100)\n",
    "print(bb.shape)\n",
    "aa.append(bb)\n",
    "aa = np.asarray(aa)\n",
    "aa.shape[0] * aa.shape[1]"
   ]
  },
  {
   "cell_type": "code",
   "execution_count": null,
   "metadata": {},
   "outputs": [],
   "source": []
  }
 ],
 "metadata": {
  "kernelspec": {
   "display_name": "Python 2",
   "language": "python",
   "name": "python2"
  },
  "language_info": {
   "codemirror_mode": {
    "name": "ipython",
    "version": 2
   },
   "file_extension": ".py",
   "mimetype": "text/x-python",
   "name": "python",
   "nbconvert_exporter": "python",
   "pygments_lexer": "ipython2",
   "version": "2.7.12"
  }
 },
 "nbformat": 4,
 "nbformat_minor": 2
}
