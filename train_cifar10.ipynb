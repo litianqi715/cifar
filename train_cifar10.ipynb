{
 "cells": [
  {
   "cell_type": "code",
   "execution_count": 15,
   "metadata": {},
   "outputs": [],
   "source": [
    "import sys\n",
    "import cv2\n",
    "import torch\n",
    "import numpy as np\n",
    "import matplotlib\n",
    "%matplotlib inline\n",
    "\n",
    "torch.cuda.set_device(1)"
   ]
  },
  {
   "cell_type": "code",
   "execution_count": 16,
   "metadata": {},
   "outputs": [],
   "source": [
    "if sys.version < str(3.0):\n",
    "    def unpickle(file):\n",
    "        with open(file, 'rb') as fo:\n",
    "            import cPickle\n",
    "            dict = cPickle.load(fo)\n",
    "        return dict\n",
    "else:\n",
    "    def unpickle(file):\n",
    "        with open(file, 'rb') as fo:\n",
    "            import pickle\n",
    "            dict = pickle.load(fo, encoding='bytes')\n",
    "        return dict"
   ]
  },
  {
   "cell_type": "code",
   "execution_count": 31,
   "metadata": {},
   "outputs": [
    {
     "data": {
      "text/plain": [
       "(10000, 3072)"
      ]
     },
     "execution_count": 31,
     "metadata": {},
     "output_type": "execute_result"
    }
   ],
   "source": [
    "file1 = \"/home/ltq/cifar/cifar-10-batches-py/data_batch_1\"\n",
    "batch1 = unpickle(file1)\n",
    "raw_data = batch1['data']\n",
    "raw_label = batch1['labels']\n",
    "filenames = batch1['filenames']\n",
    "raw_data.shape"
   ]
  },
  {
   "cell_type": "code",
   "execution_count": 36,
   "metadata": {},
   "outputs": [
    {
     "data": {
      "text/plain": [
       "True"
      ]
     },
     "execution_count": 36,
     "metadata": {},
     "output_type": "execute_result"
    }
   ],
   "source": [
    "imgs = raw_data.reshape(10000, 3, 32,32)\n",
    "imgs.shape\n",
    "imgs[1].shape\n",
    "cv2.imwrite(\"img1.png\",imgs[1])\n",
    "#img1 = 1"
   ]
  },
  {
   "cell_type": "code",
   "execution_count": null,
   "metadata": {},
   "outputs": [],
   "source": []
  }
 ],
 "metadata": {
  "kernelspec": {
   "display_name": "Python 2",
   "language": "python",
   "name": "python2"
  },
  "language_info": {
   "codemirror_mode": {
    "name": "ipython",
    "version": 2
   },
   "file_extension": ".py",
   "mimetype": "text/x-python",
   "name": "python",
   "nbconvert_exporter": "python",
   "pygments_lexer": "ipython2",
   "version": "2.7.12"
  }
 },
 "nbformat": 4,
 "nbformat_minor": 2
}
